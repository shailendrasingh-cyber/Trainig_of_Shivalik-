{
 "cells": [
  {
   "cell_type": "code",
   "execution_count": 1,
   "id": "c03024f0-a262-4334-b3ef-c8516f2cce6a",
   "metadata": {},
   "outputs": [
    {
     "name": "stdout",
     "output_type": "stream",
     "text": [
      "(1, 2, 3, 4, 5)\n",
      "('One', 'Two', 'Three')\n",
      "(1, 'Two', 3, 'Four', 5)\n"
     ]
    }
   ],
   "source": [
    "# Creating a tuple of numbers\n",
    "my_tuple1 = (1, 2, 3, 4, 5)\n",
    "print(my_tuple1)\n",
    "# Creating a tuple of strings\n",
    "my_tuple2 = ('One', 'Two', 'Three')\n",
    "print(my_tuple2)\n",
    "# Creating a hybrid tuple of numbers and strings\n",
    "my_tuple3 = (1, 'Two', 3, 'Four', 5)\n",
    "print(my_tuple3)\n"
   ]
  },
  {
   "cell_type": "code",
   "execution_count": 2,
   "id": "06cb5f72-b8bb-44f4-a5e3-f03015b798df",
   "metadata": {},
   "outputs": [
    {
     "name": "stdout",
     "output_type": "stream",
     "text": [
      "For the tuple: (1, 2, 3, 4, 5)\n",
      "First Element: 1\n",
      "Third Element: 3\n",
      "Subset: (2, 3)\n"
     ]
    }
   ],
   "source": [
    "my_tuple = (1, 2, 3, 4, 5)\n",
    "# Accessing elements in a tuple\n",
    "first_element = my_tuple[0]  # Accessing the first element\n",
    "third_element = my_tuple[2]  # Accessing the third element\n",
    "# Slicing a tuple\n",
    "subset = my_tuple[1:3]  # Extracting a subset from index 1 to 2\n",
    "# Displaying the results\n",
    "print(\"For the tuple:\", my_tuple)\n",
    "print(\"First Element:\", first_element)\n",
    "print(\"Third Element:\", third_element)\n",
    "print(\"Subset:\", subset)"
   ]
  },
  {
   "cell_type": "code",
   "execution_count": 3,
   "id": "dfe4690f-340b-4b72-965c-08ef140bd767",
   "metadata": {},
   "outputs": [
    {
     "name": "stdout",
     "output_type": "stream",
     "text": [
      "Length of Tuple: 4\n",
      "'hello' Present?: True\n",
      "Concatenated Tuple: (1, 'hello', 3.14, True, 4, False)\n"
     ]
    }
   ],
   "source": [
    "# Creating a simple tuple\n",
    "my_tuple = (1, 'hello', 3.14, True)\n",
    "# Finding the length of a tuple\n",
    "tuple_length = len(my_tuple)\n",
    "# Checking if an element is present\n",
    "is_present = 'hello' in my_tuple\n",
    "# Concatenating tuples\n",
    "concatenated_tuple = my_tuple + (4, False)\n",
    "# Displaying the results\n",
    "print(\"Length of Tuple:\", tuple_length)\n",
    "print(\"'hello' Present?:\", is_present)\n",
    "print(\"Concatenated Tuple:\", concatenated_tuple)"
   ]
  },
  {
   "cell_type": "code",
   "execution_count": 4,
   "id": "8aa14724-58c8-49b2-87b7-91ee6ca23004",
   "metadata": {},
   "outputs": [
    {
     "name": "stdout",
     "output_type": "stream",
     "text": [
      "Modified Tuple: ('Modified', 3.14, True, 'CLOUDEDUATION')\n"
     ]
    }
   ],
   "source": [
    "# Creating a tuple\n",
    "original_tuple = (1, 'hello', 3.14, True)\n",
    "# Converting tuple to list for modification\n",
    "tuple_list = list(original_tuple)\n",
    "tuple_list[0] = 'Modified'\n",
    "# Modifying by removing and adding elements\n",
    "tuple_list.remove('hello')  # Removing an element\n",
    "tuple_list.append('CLOUDEDUATION')  # Adding a new element\n",
    "# Converting the list back to a tuple\n",
    "modified_tuple = tuple(tuple_list)\n",
    "# Displaying the modified tuple\n",
    "print(\"Modified Tuple:\", modified_tuple)\n"
   ]
  },
  {
   "cell_type": "code",
   "execution_count": 5,
   "id": "2a9429b5-bf9b-4942-9d61-e2e786d3557c",
   "metadata": {},
   "outputs": [
    {
     "name": "stdout",
     "output_type": "stream",
     "text": [
      "Example Tuple: (1, 2, 3, 4, 2, 5, 2)\n",
      "Count of 2: 3\n",
      "Index of 4: 3\n"
     ]
    }
   ],
   "source": [
    "# Creating a tuple\n",
    "example_tuple = (1, 2, 3, 4, 2, 5, 2)\n",
    "print(\"Example Tuple:\", example_tuple)\n",
    "\n",
    "# Using the count method\n",
    "count_of_2 = example_tuple.count(2)\n",
    "print(\"Count of 2:\", count_of_2)\n",
    "\n",
    "# Using the index method\n",
    "index_of_4 = example_tuple.index(4)\n",
    "print(\"Index of 4:\", index_of_4)\n"
   ]
  },
  {
   "cell_type": "code",
   "execution_count": 6,
   "id": "85fd4ca7-cd04-41a0-aa3f-52107b64e666",
   "metadata": {},
   "outputs": [
    {
     "name": "stdout",
     "output_type": "stream",
     "text": [
      "Number of occurrences of '4': 3\n",
      "Index of the first occurrence of '7': 2\n"
     ]
    }
   ],
   "source": [
    "# Challenge Tuple\n",
    "challenge_tuple = (4, 2, 7, 4, 1, 8, 4, 6)\n",
    "\n",
    "# Your Challenge:\n",
    "# 1. Use the count method to find the number of occurrences of the element '4' in the tuple.\n",
    "# 2. Use the index method to find the index of the first occurrence of the element '7'.\n",
    "\n",
    "# Now, let's print the results\n",
    "print(\"Number of occurrences of '4':\", challenge_tuple.count(4))\n",
    "print(\"Index of the first occurrence of '7':\", challenge_tuple.index(7))\n"
   ]
  },
  {
   "cell_type": "code",
   "execution_count": null,
   "id": "8af185cf-492f-49b5-98e8-bd02d45303aa",
   "metadata": {},
   "outputs": [],
   "source": []
  }
 ],
 "metadata": {
  "kernelspec": {
   "display_name": "Python 3 (ipykernel)",
   "language": "python",
   "name": "python3"
  },
  "language_info": {
   "codemirror_mode": {
    "name": "ipython",
    "version": 3
   },
   "file_extension": ".py",
   "mimetype": "text/x-python",
   "name": "python",
   "nbconvert_exporter": "python",
   "pygments_lexer": "ipython3",
   "version": "3.11.7"
  }
 },
 "nbformat": 4,
 "nbformat_minor": 5
}
