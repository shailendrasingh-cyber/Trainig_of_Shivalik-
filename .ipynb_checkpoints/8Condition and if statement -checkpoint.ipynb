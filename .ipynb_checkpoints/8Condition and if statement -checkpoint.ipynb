{
 "cells": [
  {
   "cell_type": "raw",
   "id": "e1397103-19e4-4d5d-b1c3-5a920af14838",
   "metadata": {},
   "source": [
    "\n",
    "if condition:\n",
    "    # code to execute if condition is true\n"
   ]
  },
  {
   "cell_type": "code",
   "execution_count": 2,
   "id": "c302de31-7851-4194-b429-0c13dd476e12",
   "metadata": {},
   "outputs": [
    {
     "name": "stdout",
     "output_type": "stream",
     "text": [
      "The number is positive.\n"
     ]
    }
   ],
   "source": [
    "\n",
    "a = 1\n",
    "\n",
    "if a > 0:\n",
    "    print(\"The number is positive.\")"
   ]
  },
  {
   "cell_type": "code",
   "execution_count": null,
   "id": "8f2cbe4f-ff9d-478d-ae8d-d2afcf8b1caf",
   "metadata": {},
   "outputs": [],
   "source": [
    "\n",
    "if condition:\n",
    "    # code to execute if condition is true\n",
    "else:\n",
    "    # code to execute if condition is false"
   ]
  },
  {
   "cell_type": "code",
   "execution_count": 3,
   "id": "8b20d9d4-779d-406b-9dec-e3e8f57ee641",
   "metadata": {},
   "outputs": [
    {
     "name": "stdout",
     "output_type": "stream",
     "text": [
      "The number is negative.\n"
     ]
    }
   ],
   "source": [
    "a = -3\n",
    "\n",
    "if a > 0:\n",
    "    print(\"The number is positive.\")\n",
    "else:\n",
    "    print(\"The number is negative.\")"
   ]
  },
  {
   "cell_type": "code",
   "execution_count": null,
   "id": "fd035e62-4475-451c-83a9-7616224c16dd",
   "metadata": {},
   "outputs": [],
   "source": [
    "if condition1:\n",
    "    # code to execute if condition1 is true\n",
    "elif condition2:\n",
    "    # code to execute if condition1 is false and condition2 is true\n",
    "elif condition3:\n",
    "    # code to execute if condition1 and condition2 are false, and condition3 is true\n",
    "else:\n",
    "    # code to execute if all conditions are false"
   ]
  },
  {
   "cell_type": "code",
   "execution_count": 4,
   "id": "93c3e8c5-844e-4e25-b173-a1e6562d5d1c",
   "metadata": {},
   "outputs": [
    {
     "name": "stdout",
     "output_type": "stream",
     "text": [
      "The number is zero.\n"
     ]
    }
   ],
   "source": [
    "a = 0\n",
    "\n",
    "if a > 0:\n",
    "    print(\"The number is positive.\")\n",
    "elif a < 0:\n",
    "    print(\"The number is negative.\")\n",
    "else:\n",
    "    print(\"The number is zero.\")"
   ]
  },
  {
   "cell_type": "code",
   "execution_count": 5,
   "id": "acebde52-29a8-4595-a1bd-3e0a44838133",
   "metadata": {},
   "outputs": [
    {
     "name": "stdout",
     "output_type": "stream",
     "text": [
      "x and y are equal\n"
     ]
    }
   ],
   "source": [
    "\n",
    "# Example 1: Equality Check (==)\n",
    "x = 5\n",
    "y = 5\n",
    "\n",
    "if x == y:\n",
    "    print(\"x and y are equal\")\n",
    "else:\n",
    "    print(\"x and y are not equal\")"
   ]
  },
  {
   "cell_type": "code",
   "execution_count": 6,
   "id": "75104ce4-52f5-4277-91b7-afab331ee4f3",
   "metadata": {},
   "outputs": [
    {
     "name": "stdout",
     "output_type": "stream",
     "text": [
      "a and b are not equal\n"
     ]
    }
   ],
   "source": [
    "\n",
    "# Example 2: Inequality Check (!=)\n",
    "a = 10\n",
    "b = 20\n",
    "\n",
    "if a != b:\n",
    "    print(\"a and b are not equal\")\n",
    "else:\n",
    "    print(\"a and b are equal\")"
   ]
  },
  {
   "cell_type": "code",
   "execution_count": 7,
   "id": "cc9e1406-7324-4bf7-bfda-5f16d400f8db",
   "metadata": {},
   "outputs": [
    {
     "name": "stdout",
     "output_type": "stream",
     "text": [
      "num1 is greater than num2\n"
     ]
    }
   ],
   "source": [
    "# Example 3: Greater Than (>)\n",
    "num1 = 15\n",
    "num2 = 10\n",
    "\n",
    "if num1 > num2:\n",
    "    print(\"num1 is greater than num2\")\n",
    "else:\n",
    "    print(\"num1 is not greater than num2\")"
   ]
  },
  {
   "cell_type": "code",
   "execution_count": 8,
   "id": "0256de7b-bbbb-447f-8aa8-039bc771a26e",
   "metadata": {},
   "outputs": [
    {
     "name": "stdout",
     "output_type": "stream",
     "text": [
      "price1 is less than price2\n"
     ]
    }
   ],
   "source": [
    "# Example 4: Less Than (<)\n",
    "price1 = 30\n",
    "price2 = 40\n",
    "\n",
    "if price1 < price2:\n",
    "    print(\"price1 is less than price2\")\n",
    "else:\n",
    "    print(\"price1 is not less than price2\")"
   ]
  },
  {
   "cell_type": "code",
   "execution_count": 9,
   "id": "2310e6af-76d9-40cd-b072-65bb0e36fae5",
   "metadata": {},
   "outputs": [
    {
     "name": "stdout",
     "output_type": "stream",
     "text": [
      "age1 is greater than or equal to age2\n"
     ]
    }
   ],
   "source": [
    "# Example 5: Greater Than or Equal To (>=)\n",
    "age1 = 25\n",
    "age2 = 20\n",
    "\n",
    "if age1 >= age2:\n",
    "    print(\"age1 is greater than or equal to age2\")\n",
    "else:\n",
    "    print(\"age1 is not greater than or equal to age2\")"
   ]
  },
  {
   "cell_type": "code",
   "execution_count": 10,
   "id": "8d5924f8-16f2-4649-b3d1-d92bb6acb01d",
   "metadata": {},
   "outputs": [
    {
     "name": "stdout",
     "output_type": "stream",
     "text": [
      "count1 is less than or equal to count2\n"
     ]
    }
   ],
   "source": [
    "# Example 6: Less Than or Equal To (<=)\n",
    "count1 = 100\n",
    "count2 = 100\n",
    "\n",
    "if count1 <= count2:\n",
    "    print(\"count1 is less than or equal to count2\")\n",
    "else:\n",
    "    print(\"count1 is not less than or equal to count2\")\n"
   ]
  },
  {
   "cell_type": "code",
   "execution_count": 11,
   "id": "498aad7a-4469-4498-99d4-89d1a649de25",
   "metadata": {},
   "outputs": [
    {
     "name": "stdout",
     "output_type": "stream",
     "text": [
      "Eligible for a loan\n"
     ]
    }
   ],
   "source": [
    "# Example 1: Using 'and' Operator\n",
    "age = 25\n",
    "income = 50000\n",
    "\n",
    "if age > 18 and income > 30000:\n",
    "    print(\"Eligible for a loan\")\n",
    "else:\n",
    "    print(\"Not eligible for a loan\")"
   ]
  },
  {
   "cell_type": "code",
   "execution_count": 17,
   "id": "4ecadf35-590c-4105-b56b-cf4f02105b16",
   "metadata": {},
   "outputs": [
    {
     "name": "stdout",
     "output_type": "stream",
     "text": [
      "Person is either a student or an employee\n"
     ]
    }
   ],
   "source": [
    "# Example 2: Using 'or' Operator\n",
    "is_student = True\n",
    "is_employee = False\n",
    "\n",
    "if is_student or is_employee:\n",
    "    print(\"Person is either a student or an employee\")\n",
    "else:\n",
    "    print(\"Person is neither a student nor an employee\")"
   ]
  },
  {
   "cell_type": "code",
   "execution_count": 15,
   "id": "6dd5bf99-d96c-4312-8382-42cd192cf04c",
   "metadata": {},
   "outputs": [
    {
     "name": "stdout",
     "output_type": "stream",
     "text": [
      "Student qualifies for honors\n"
     ]
    }
   ],
   "source": [
    "# Example 3: Combination of 'and' and 'or' Operators\n",
    "marks = 80\n",
    "is_pass = True\n",
    "is_honors = False\n",
    "\n",
    "if marks >= 80 and is_pass or is_honors:\n",
    "    print(\"Student qualifies for honors\")\n",
    "else:\n",
    "    print(\"Student does not qualify for honors\")"
   ]
  },
  {
   "cell_type": "code",
   "execution_count": null,
   "id": "9c6ae230-df3e-49c6-b6e7-33ba5ec3575d",
   "metadata": {},
   "outputs": [],
   "source": []
  }
 ],
 "metadata": {
  "kernelspec": {
   "display_name": "Python 3 (ipykernel)",
   "language": "python",
   "name": "python3"
  },
  "language_info": {
   "codemirror_mode": {
    "name": "ipython",
    "version": 3
   },
   "file_extension": ".py",
   "mimetype": "text/x-python",
   "name": "python",
   "nbconvert_exporter": "python",
   "pygments_lexer": "ipython3",
   "version": "3.11.7"
  }
 },
 "nbformat": 4,
 "nbformat_minor": 5
}
