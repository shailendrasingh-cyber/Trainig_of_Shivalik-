{
 "cells": [
  {
   "cell_type": "code",
   "execution_count": 1,
   "id": "d5c1515f-6485-4908-9987-fc59e33806d5",
   "metadata": {},
   "outputs": [
    {
     "name": "stdout",
     "output_type": "stream",
     "text": [
      "A subset of the list: [2, 3, 4]\n",
      "A subset of the list: [4, 5]\n"
     ]
    }
   ],
   "source": [
    "\n",
    "# Creating a simple list\n",
    "my_list = [1, 2, 3, 4, 5]\n",
    "\n",
    "# Slicing a list\n",
    "subset = my_list[1:4]\n",
    "print(\"A subset of the list:\",subset)\n",
    "\n",
    "# Slicing a list\n",
    "subset = my_list[3:]\n",
    "print(\"A subset of the list:\",subset)"
   ]
  },
  {
   "cell_type": "code",
   "execution_count": 2,
   "id": "4860ce02-993d-4d66-becb-70a422753031",
   "metadata": {},
   "outputs": [
    {
     "name": "stdout",
     "output_type": "stream",
     "text": [
      "The modified list: [1, 2, 10, 4, 5]\n",
      "The modified list: ['CloudEducation', 2, 10, 4, 5]\n"
     ]
    }
   ],
   "source": [
    "# Creating a simple list\n",
    "my_list = [1, 2, 3, 4, 5]\n",
    "# Modifying a list\n",
    "my_list[2] = 10\n",
    "print(\"The modified list:\",my_list)\n",
    "# Modifying a list\n",
    "my_list[0] = 'CloudEducation'\n",
    "print(\"The modified list:\",my_list)"
   ]
  },
  {
   "cell_type": "code",
   "execution_count": 3,
   "id": "12baf886-d88c-44a7-92ea-1044e771acc7",
   "metadata": {},
   "outputs": [
    {
     "name": "stdout",
     "output_type": "stream",
     "text": [
      "The updated list: [1, 2, 3, 5, 6]\n"
     ]
    }
   ],
   "source": [
    "# Creating a simple list\n",
    "my_list = [1, 2, 3, 4, 5]\n",
    "# Adding and removing elements in a list\n",
    "my_list.append(6)  # Adding an element to the end\n",
    "my_list.remove(4)  # Removing a specific element\n",
    "print(\"The updated list:\",my_list)"
   ]
  },
  {
   "cell_type": "code",
   "execution_count": 4,
   "id": "a027dd6f-4e7c-4a6f-acc5-622933d67135",
   "metadata": {},
   "outputs": [
    {
     "name": "stdout",
     "output_type": "stream",
     "text": [
      "Lentgth of the list is: 5\n",
      "Is 3 present?: True\n",
      "Concatenated List: [1, 2, 3, 4, 5, 6, 7, 8, 9]\n"
     ]
    }
   ],
   "source": [
    "# Creating a simple list\n",
    "my_list = [1, 2, 3, 4, 5]\n",
    "# List operations\n",
    "length = len(my_list)  # Finding the length of the list\n",
    "print('Lentgth of the list is:',length)\n",
    "is_present = 3 in my_list  # Checking if an element is present\n",
    "print('Is 3 present?:',is_present)\n",
    "concatenated_list = my_list + [6,7, 8, 9]  # Concatenating lists\n",
    "print('Concatenated List:',concatenated_list)"
   ]
  },
  {
   "cell_type": "code",
   "execution_count": 7,
   "id": "7604a999-eedc-4786-8249-f5460b3e54fd",
   "metadata": {},
   "outputs": [
    {
     "name": "stdout",
     "output_type": "stream",
     "text": [
      "Reversed List: [5, 4, 3, 2, 1]\n",
      "Sorted list: [1, 2, 3, 4, 5]\n"
     ]
    }
   ],
   "source": [
    "# Creating a simple list\n",
    "my_list = [1, 2, 3, 4, 5]\n",
    "# List methods\n",
    "demo =  my_list[::-1]  # Reversing the order of elements\n",
    "print(\"Reversed List:\",demo)\n",
    "sorted_list = sorted(my_list)  # Sorting the list\n",
    "print(\"Sorted list:\",sorted_list)"
   ]
  },
  {
   "cell_type": "code",
   "execution_count": null,
   "id": "2a2251b7-f3d9-4a96-b51c-78ea4032a9a0",
   "metadata": {},
   "outputs": [],
   "source": []
  }
 ],
 "metadata": {
  "kernelspec": {
   "display_name": "Python 3 (ipykernel)",
   "language": "python",
   "name": "python3"
  },
  "language_info": {
   "codemirror_mode": {
    "name": "ipython",
    "version": 3
   },
   "file_extension": ".py",
   "mimetype": "text/x-python",
   "name": "python",
   "nbconvert_exporter": "python",
   "pygments_lexer": "ipython3",
   "version": "3.11.7"
  }
 },
 "nbformat": 4,
 "nbformat_minor": 5
}
