{
 "cells": [
  {
   "cell_type": "code",
   "execution_count": 2,
   "id": "c6e8323e-f2d3-4464-9726-a28efc376e77",
   "metadata": {},
   "outputs": [
    {
     "name": "stdout",
     "output_type": "stream",
     "text": [
      "cloudEducation\n"
     ]
    }
   ],
   "source": [
    "\n",
    "print(\"cloudEducation\")"
   ]
  },
  {
   "cell_type": "code",
   "execution_count": 6,
   "id": "f4891d20-6299-4550-940f-7d0c281e4aa7",
   "metadata": {},
   "outputs": [
    {
     "name": "stdout",
     "output_type": "stream",
     "text": [
      "Hello and welcome to CloudEducation,your are here  for leaning Python and datascience.\n",
      "   \n"
     ]
    }
   ],
   "source": [
    "\n",
    "# Assign a multiline string to variable 'a'\n",
    "a = \"\"\"Hello and welcome to CloudEducation,your are here  for leaning Python and datascience.\n",
    "   \"\"\"\n",
    "# Print the content of the variable 'a'\n",
    "print(a)"
   ]
  },
  {
   "cell_type": "code",
   "execution_count": null,
   "id": "9a4062ad-0c79-44a1-9015-56ffcd411789",
   "metadata": {},
   "outputs": [],
   "source": [
    "\n",
    "# Define a string\n",
    "s = \"CloudEducation\"\n",
    "# Access the first character using square brackets\n",
    "print(s[0])"
   ]
  }
 ],
 "metadata": {
  "kernelspec": {
   "display_name": "Python 3 (ipykernel)",
   "language": "python",
   "name": "python3"
  },
  "language_info": {
   "codemirror_mode": {
    "name": "ipython",
    "version": 3
   },
   "file_extension": ".py",
   "mimetype": "text/x-python",
   "name": "python",
   "nbconvert_exporter": "python",
   "pygments_lexer": "ipython3",
   "version": "3.11.7"
  }
 },
 "nbformat": 4,
 "nbformat_minor": 5
}
