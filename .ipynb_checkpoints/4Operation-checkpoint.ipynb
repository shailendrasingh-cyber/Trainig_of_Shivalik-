{
 "cells": [
  {
   "cell_type": "raw",
   "id": "22064afb-1c0b-46a1-87c8-d56cdcda3abf",
   "metadata": {},
   "source": [
    "\n",
    "Types of Operator\n",
    "Arithmetic Operators\n",
    "Comparison (Relational) Operators\n",
    "Assignment Operators\n",
    "Membership Operators\n",
    "Identity Operators"
   ]
  },
  {
   "cell_type": "code",
   "execution_count": 2,
   "id": "3b70e1d0-2190-4958-a299-41b33d1cfe54",
   "metadata": {},
   "outputs": [
    {
     "name": "stdout",
     "output_type": "stream",
     "text": [
      "The result of a + b is 60\n"
     ]
    }
   ],
   "source": [
    "# Arithmetic Operators\n",
    "a = 40  # Initializing 'a' with the value 40\n",
    "b = 20  # Initializing 'b' with the value 20\n",
    "\n",
    "# Addition\n",
    "result_addition = a + b\n",
    "print('The result of a + b is', result_addition)"
   ]
  },
  {
   "cell_type": "code",
   "execution_count": 3,
   "id": "3ecd2c1a-0fd0-45a0-a30c-e200384e1a73",
   "metadata": {},
   "outputs": [
    {
     "name": "stdout",
     "output_type": "stream",
     "text": [
      "The result of a - b is 20\n"
     ]
    }
   ],
   "source": [
    "# Subtraction\n",
    "result_subtraction = a - b\n",
    "print('The result of a - b is', result_subtraction)"
   ]
  },
  {
   "cell_type": "code",
   "execution_count": 4,
   "id": "fabf84ae-ebde-48f3-bf8b-c5451b21d53b",
   "metadata": {},
   "outputs": [
    {
     "name": "stdout",
     "output_type": "stream",
     "text": [
      "The result of a * b is 800\n"
     ]
    }
   ],
   "source": [
    "# Multiplication\n",
    "result_multiplication = a * b\n",
    "print('The result of a * b is', result_multiplication)"
   ]
  },
  {
   "cell_type": "code",
   "execution_count": 5,
   "id": "3ae4b779-9a3b-4fd4-9a85-839043308ecc",
   "metadata": {},
   "outputs": [
    {
     "name": "stdout",
     "output_type": "stream",
     "text": [
      "The result of a // b is 2\n"
     ]
    }
   ],
   "source": [
    "\n",
    "# Floor Division\n",
    "result_floor_division = a // b\n",
    "print('The result of a // b is', result_floor_division)"
   ]
  },
  {
   "cell_type": "code",
   "execution_count": 6,
   "id": "63efc32a-a40e-42f6-8d35-784e570f2327",
   "metadata": {},
   "outputs": [
    {
     "name": "stdout",
     "output_type": "stream",
     "text": [
      "The result of a % b is 0\n"
     ]
    }
   ],
   "source": [
    "\n",
    "# Modulus\n",
    "result_modulus = a % b\n",
    "print('The result of a % b is', result_modulus)"
   ]
  },
  {
   "cell_type": "code",
   "execution_count": 7,
   "id": "b05ecd9d-4624-412b-919c-076c4fb22559",
   "metadata": {},
   "outputs": [
    {
     "name": "stdout",
     "output_type": "stream",
     "text": [
      "The result of a ** b is 109951162777600000000000000000000\n"
     ]
    }
   ],
   "source": [
    "\n",
    "# Exponentiation\n",
    "result_exponentiation = a ** b\n",
    "print('The result of a ** b is', result_exponentiation)"
   ]
  },
  {
   "cell_type": "code",
   "execution_count": 8,
   "id": "af001d12-e4d0-4b12-ab68-aeb8f7c10aa3",
   "metadata": {},
   "outputs": [
    {
     "name": "stdout",
     "output_type": "stream",
     "text": [
      "The result of a == b is False\n"
     ]
    }
   ],
   "source": [
    "# Comparision Operator \n",
    "\n",
    "a = 10\n",
    "b = 20\n",
    "\n",
    "# If the values of two operands are equal, then the condition becomes true.\n",
    "result_equal = a == b\n",
    "print('The result of a == b is', result_equal)\n"
   ]
  },
  {
   "cell_type": "code",
   "execution_count": 9,
   "id": "9395faa9-ada4-4ef5-a467-0d0a0e8bab23",
   "metadata": {},
   "outputs": [
    {
     "name": "stdout",
     "output_type": "stream",
     "text": [
      "The result of a != b is True\n"
     ]
    }
   ],
   "source": [
    "# If values of two operands are not equal, then the condition becomes true.\n",
    "result_not_equal = a != b\n",
    "print('The result of a != b is', result_not_equal)\n"
   ]
  },
  {
   "cell_type": "code",
   "execution_count": 10,
   "id": "b19fa5a0-665b-4d3d-8592-ba6bd1e429a4",
   "metadata": {},
   "outputs": [
    {
     "name": "stdout",
     "output_type": "stream",
     "text": [
      "The result of a > b is False\n"
     ]
    }
   ],
   "source": [
    "\n",
    "# If the value of the left operand is greater than the value of\n",
    "# the right operand, then the condition becomes true.\n",
    "result_greater_than = a > b\n",
    "print('The result of a > b is', result_greater_than)"
   ]
  },
  {
   "cell_type": "code",
   "execution_count": 11,
   "id": "c98c8729-5ede-4984-b813-9e7354f36e3c",
   "metadata": {},
   "outputs": [
    {
     "name": "stdout",
     "output_type": "stream",
     "text": [
      "The result of a < b is True\n"
     ]
    }
   ],
   "source": [
    "# If the value of the left operand is less than the value of\n",
    "# the right operand, then the condition becomes true.\n",
    "result_less_than = a < b\n",
    "print('The result of a < b is', result_less_than)"
   ]
  },
  {
   "cell_type": "code",
   "execution_count": 12,
   "id": "d72f1188-fe04-4d9a-88de-421a2f4324ba",
   "metadata": {},
   "outputs": [
    {
     "name": "stdout",
     "output_type": "stream",
     "text": [
      "The result of a >= b is False\n"
     ]
    }
   ],
   "source": [
    "# If the value of the left operand is greater than or equal to the value of\n",
    "# the right operand, then the condition becomes true.\n",
    "result_greater_equal = a >= b\n",
    "print('The result of a >= b is', result_greater_equal)"
   ]
  },
  {
   "cell_type": "code",
   "execution_count": 13,
   "id": "a9c7d937-17ff-4d7e-8a14-99d7a8569b44",
   "metadata": {},
   "outputs": [
    {
     "name": "stdout",
     "output_type": "stream",
     "text": [
      "The result of a <= b is True\n"
     ]
    }
   ],
   "source": [
    "\n",
    "# If the value of the left operand is less than or equal to the value of\n",
    "# the right operand, then the condition becomes true.\n",
    "result_less_equal = a <= b\n",
    "print('The result of a <= b is', result_less_equal)"
   ]
  },
  {
   "cell_type": "code",
   "execution_count": 14,
   "id": "b2fd844d-4227-46c1-bc81-bc57d8b66cb2",
   "metadata": {},
   "outputs": [
    {
     "name": "stdout",
     "output_type": "stream",
     "text": [
      "a = 10\n",
      "b = 20\n"
     ]
    }
   ],
   "source": [
    "# Assignment Operators\n",
    "\n",
    "a = 10  \n",
    "b = 20\n",
    "print('a =', a)\n",
    "print('b =', b)"
   ]
  },
  {
   "cell_type": "code",
   "execution_count": 15,
   "id": "10487584-2a89-4dd7-973c-a6977d07e268",
   "metadata": {},
   "outputs": [
    {
     "name": "stdout",
     "output_type": "stream",
     "text": [
      "the result of a += b is 30\n"
     ]
    }
   ],
   "source": [
    "\n",
    "a += b  # Equivalent to: a = a + b\n",
    "print('the result of a += b is', a)"
   ]
  },
  {
   "cell_type": "code",
   "execution_count": 16,
   "id": "2f25ad1d-762e-48e5-b6ba-6409cc0aab69",
   "metadata": {},
   "outputs": [
    {
     "name": "stdout",
     "output_type": "stream",
     "text": [
      "the result of a -= b is -10\n"
     ]
    }
   ],
   "source": [
    "a = 10\n",
    "a -= b  # Equivalent to: a = a - b\n",
    "print('the result of a -= b is', a)"
   ]
  },
  {
   "cell_type": "code",
   "execution_count": 17,
   "id": "c7bc39fb-9343-4d35-aceb-9a3627eb8a55",
   "metadata": {},
   "outputs": [
    {
     "name": "stdout",
     "output_type": "stream",
     "text": [
      "the result of a *= b is 200\n"
     ]
    }
   ],
   "source": [
    "a = 10\n",
    "a *= b  # Equivalent to: a = a * b\n",
    "print('the result of a *= b is', a)"
   ]
  },
  {
   "cell_type": "code",
   "execution_count": 18,
   "id": "741e01da-12b4-4a7e-891a-e2f2ad59adf3",
   "metadata": {},
   "outputs": [
    {
     "name": "stdout",
     "output_type": "stream",
     "text": [
      "the result of a /= b is 0.5\n"
     ]
    }
   ],
   "source": [
    "\n",
    "a = 10\n",
    "a /= b  # Equivalent to: a = a / b\n",
    "print('the result of a /= b is', a)"
   ]
  },
  {
   "cell_type": "code",
   "execution_count": 19,
   "id": "31fd0a95-915f-4d02-9899-ca791a473f6f",
   "metadata": {},
   "outputs": [
    {
     "name": "stdout",
     "output_type": "stream",
     "text": [
      "the result of a %= b is 10\n"
     ]
    }
   ],
   "source": [
    "a = 10\n",
    "a %= b  # Equivalent to: a = a % b\n",
    "print('the result of a %= b is', a)"
   ]
  },
  {
   "cell_type": "code",
   "execution_count": 20,
   "id": "5f57cf38-ac8d-4215-89ca-71763b90fc0d",
   "metadata": {},
   "outputs": [
    {
     "name": "stdout",
     "output_type": "stream",
     "text": [
      "the result of a **= b is 100000000000000000000\n"
     ]
    }
   ],
   "source": [
    "a = 10\n",
    "a **= b  # Equivalent to: a = a ** b\n",
    "print('the result of a **= b is', a)"
   ]
  },
  {
   "cell_type": "code",
   "execution_count": 21,
   "id": "f39322ec-9380-468b-aa1d-a99d9add6622",
   "metadata": {},
   "outputs": [
    {
     "name": "stdout",
     "output_type": "stream",
     "text": [
      "the result of a //= b is 0\n"
     ]
    }
   ],
   "source": [
    "a = 10\n",
    "a //= b  # Equivalent to: a = a // b\n",
    "print('the result of a //= b is', a)"
   ]
  },
  {
   "cell_type": "code",
   "execution_count": 23,
   "id": "485421f8-4489-4c67-a83e-fb30916c8595",
   "metadata": {},
   "outputs": [
    {
     "name": "stdout",
     "output_type": "stream",
     "text": [
      "The result of a in b is True\n"
     ]
    }
   ],
   "source": [
    "# Membership operator \n",
    "# Assigning the value 1 to variable 'a'\n",
    "a = 1\n",
    "\n",
    "# Creating a tuple 'b' with values (1, 2, 3, 6, 5)\n",
    "b = (1, 2, 3, 6, 5)\n",
    "\n",
    "# Using the 'in' operator to check if 'a' is in the sequence 'b'\n",
    "print('The result of a in b is', a in b)\n"
   ]
  },
  {
   "cell_type": "code",
   "execution_count": 24,
   "id": "d9cc8d15-f4fd-4dd0-9e74-0ac530a349e0",
   "metadata": {},
   "outputs": [
    {
     "name": "stdout",
     "output_type": "stream",
     "text": [
      "The result of a not in b is False\n"
     ]
    }
   ],
   "source": [
    "# Using the 'not in' operator to check if 'a' is not in the sequence 'b'\n",
    "print('The result of a not in b is', a not in b)"
   ]
  },
  {
   "cell_type": "code",
   "execution_count": 25,
   "id": "e4925400-633f-4cc4-bb40-ce5275baf7d7",
   "metadata": {},
   "outputs": [
    {
     "name": "stdout",
     "output_type": "stream",
     "text": [
      "The result of x is y: False\n"
     ]
    }
   ],
   "source": [
    "# Identity Operator \n",
    "\n",
    "# Identity Operator - is\n",
    "x = [1, 2, 3]\n",
    "y = [1, 2, 3]\n",
    "result_is = x is y\n",
    "print('The result of x is y:', result_is)\n"
   ]
  },
  {
   "cell_type": "code",
   "execution_count": 26,
   "id": "5d96b9fa-c894-4023-bb3a-d37793471898",
   "metadata": {},
   "outputs": [
    {
     "name": "stdout",
     "output_type": "stream",
     "text": [
      "The result of x is not y: True\n"
     ]
    }
   ],
   "source": [
    "# Identity Operator - is not\n",
    "result_is_not = x is not y\n",
    "print('The result of x is not y:', result_is_not)"
   ]
  },
  {
   "cell_type": "code",
   "execution_count": null,
   "id": "fac8b907-11f3-4261-9fc5-f53c4c65da8f",
   "metadata": {},
   "outputs": [],
   "source": []
  }
 ],
 "metadata": {
  "kernelspec": {
   "display_name": "Python 3 (ipykernel)",
   "language": "python",
   "name": "python3"
  },
  "language_info": {
   "codemirror_mode": {
    "name": "ipython",
    "version": 3
   },
   "file_extension": ".py",
   "mimetype": "text/x-python",
   "name": "python",
   "nbconvert_exporter": "python",
   "pygments_lexer": "ipython3",
   "version": "3.11.7"
  }
 },
 "nbformat": 4,
 "nbformat_minor": 5
}
