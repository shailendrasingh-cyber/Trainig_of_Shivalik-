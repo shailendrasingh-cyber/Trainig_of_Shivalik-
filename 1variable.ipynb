{
 "cells": [
  {
   "cell_type": "raw",
   "id": "5e63a7ca-fbad-487b-a74a-52b7b0a5cd24",
   "metadata": {},
   "source": [
    "\n",
    "STRINGS\n",
    "DEFINITION: a string is a series of characters inside \"\" or '' quotes.\n",
    "\n"
   ]
  },
  {
   "cell_type": "code",
   "execution_count": 1,
   "id": "5dd2cbac-826c-4f7f-b40f-af1af578f370",
   "metadata": {},
   "outputs": [
    {
     "data": {
      "text/plain": [
       "'this is also a string.'"
      ]
     },
     "execution_count": 1,
     "metadata": {},
     "output_type": "execute_result"
    }
   ],
   "source": [
    "\n",
    "\"this is a string.\"\n",
    "'this is also a string.'"
   ]
  },
  {
   "cell_type": "code",
   "execution_count": 2,
   "id": "829773af-eae8-4244-9117-070cce3f3704",
   "metadata": {},
   "outputs": [
    {
     "name": "stdout",
     "output_type": "stream",
     "text": [
      "1\n",
      "cloud education\n"
     ]
    }
   ],
   "source": [
    "\n",
    "z = 1\n",
    "name = \"cloud education\"\n",
    "print(z)\n",
    "print(name)"
   ]
  },
  {
   "cell_type": "code",
   "execution_count": 3,
   "id": "7b4a8b39-5b33-4091-bba1-61b054ffe45b",
   "metadata": {},
   "outputs": [
    {
     "name": "stdout",
     "output_type": "stream",
     "text": [
      "GIS\n"
     ]
    }
   ],
   "source": [
    "\n",
    "x = \"GIS\"\n",
    "print(x)\n",
    "\n"
   ]
  },
  {
   "cell_type": "code",
   "execution_count": 4,
   "id": "b87e0fc9-b25c-4654-bb09-133dc698ee2f",
   "metadata": {},
   "outputs": [
    {
     "name": "stdout",
     "output_type": "stream",
     "text": [
      "Python Remote Sensing GIS\n"
     ]
    }
   ],
   "source": [
    "\n",
    "x = \"Python\"\n",
    "y = \"Remote Sensing\"\n",
    "z = \"GIS\"\n",
    "print(x, y, z)"
   ]
  },
  {
   "cell_type": "code",
   "execution_count": 5,
   "id": "cf765b86-d28d-4d9f-b25e-3db3c5d54996",
   "metadata": {},
   "outputs": [
    {
     "name": "stdout",
     "output_type": "stream",
     "text": [
      "42\n",
      "Remote Sensing\n"
     ]
    }
   ],
   "source": [
    "x = 42# Here, we assign an integer value to the variable.\n",
    "print(x)\n",
    "\n",
    "x = \"Remote Sensing\" # Now, we reassign a string to the same variable.\n",
    "print(x)"
   ]
  },
  {
   "cell_type": "code",
   "execution_count": 6,
   "id": "667f3568-b399-4deb-9931-83624da46245",
   "metadata": {},
   "outputs": [
    {
     "name": "stdout",
     "output_type": "stream",
     "text": [
      "One\n",
      "Two\n",
      "Three\n"
     ]
    }
   ],
   "source": [
    "x, y, z = \"One\", \"Two\", \"Three\"\n",
    "print(x)\n",
    "print(y)\n",
    "print(z)"
   ]
  },
  {
   "cell_type": "code",
   "execution_count": 7,
   "id": "ffad2e50-58b8-4489-947c-54ed3d6b33ec",
   "metadata": {},
   "outputs": [
    {
     "name": "stdout",
     "output_type": "stream",
     "text": [
      "20 20 20\n"
     ]
    }
   ],
   "source": [
    "\n",
    "# Chained assignment: Assigning the value 20 to variables x, y, and z simultaneously\n",
    "x = y = z = 20\n",
    "\n",
    "# Printing the values of x, y, and z\n",
    "print(x, y, z)"
   ]
  },
  {
   "cell_type": "code",
   "execution_count": 12,
   "id": "910c2ce1-8352-4487-bdbf-a6fd3966be8a",
   "metadata": {},
   "outputs": [
    {
     "name": "stdout",
     "output_type": "stream",
     "text": [
      "3\n",
      "3\n",
      "3.0\n",
      "<class 'str'>\n",
      "<class 'int'>\n",
      "<class 'float'>\n"
     ]
    }
   ],
   "source": [
    "# Convert to string\n",
    "xa = str(3)  # x will be '3'\n",
    "\n",
    "# Convert to integer\n",
    "ya = int(3)  # y will be 3\n",
    "\n",
    "# Convert to float\n",
    "za = float(3)  # z will be 3.0\n",
    "\n",
    "print(xa)\n",
    "print(ya)\n",
    "print(za)\n",
    "print(type(xa))\n",
    "print(type(ya))\n",
    "print(type(za))"
   ]
  },
  {
   "cell_type": "code",
   "execution_count": 16,
   "id": "6d0a92e8-43d2-4433-b7d6-e105e8e6798b",
   "metadata": {},
   "outputs": [],
   "source": [
    "# this is the way we can create variable \n",
    "myvar = \"BEEILAB\"\n",
    "my_var = \"BEEILAB\"\n",
    "_my_var = \"BEEILAB\"\n",
    "myVar = \"BEEILAB\"\n",
    "MYVAR = \"BEEILAB\"\n",
    "myvar2 = \"BEEILAB\""
   ]
  },
  {
   "cell_type": "code",
   "execution_count": 17,
   "id": "f9d380f9-4491-40f6-8ff3-29837d6c432c",
   "metadata": {},
   "outputs": [
    {
     "ename": "SyntaxError",
     "evalue": "invalid decimal literal (412395735.py, line 1)",
     "output_type": "error",
     "traceback": [
      "\u001b[1;36m  Cell \u001b[1;32mIn[17], line 1\u001b[1;36m\u001b[0m\n\u001b[1;33m    2myvar = \"BEEILAB\"    # Starts with a number\u001b[0m\n\u001b[1;37m    ^\u001b[0m\n\u001b[1;31mSyntaxError\u001b[0m\u001b[1;31m:\u001b[0m invalid decimal literal\n"
     ]
    }
   ],
   "source": [
    "\n",
    "2myvar = \"BEEILAB\"    # Starts with a number\n",
    "my-var = \"BEEILAB\"    # Contains invalid character \"-\"\n",
    "my var = \"BEEILAB\"    # Contains invalid character \" \""
   ]
  },
  {
   "cell_type": "code",
   "execution_count": null,
   "id": "10000631-329e-457d-9682-7a8d04e54c66",
   "metadata": {},
   "outputs": [],
   "source": []
  }
 ],
 "metadata": {
  "kernelspec": {
   "display_name": "Python 3 (ipykernel)",
   "language": "python",
   "name": "python3"
  },
  "language_info": {
   "codemirror_mode": {
    "name": "ipython",
    "version": 3
   },
   "file_extension": ".py",
   "mimetype": "text/x-python",
   "name": "python",
   "nbconvert_exporter": "python",
   "pygments_lexer": "ipython3",
   "version": "3.11.7"
  }
 },
 "nbformat": 4,
 "nbformat_minor": 5
}
