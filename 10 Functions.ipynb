{
 "cells": [
  {
   "cell_type": "code",
   "execution_count": null,
   "id": "615aabdc-895c-44c3-96d4-1981bc5fed4b",
   "metadata": {},
   "outputs": [],
   "source": [
    "def function_name(parameters):\n",
    "    # Code to be executed\n",
    "    return result  # Optional\n"
   ]
  },
  {
   "cell_type": "code",
   "execution_count": 1,
   "id": "2adc2482-e311-4b5f-9a51-d77eeaaafd2b",
   "metadata": {},
   "outputs": [
    {
     "name": "stdout",
     "output_type": "stream",
     "text": [
      "Sum: 8\n"
     ]
    }
   ],
   "source": [
    "\n",
    "def add_numbers(a, b):\n",
    "    result = a + b\n",
    "    return result\n",
    "\n",
    "# Usage\n",
    "sum_result = add_numbers(5, 3)\n",
    "print(\"Sum:\", sum_result)"
   ]
  },
  {
   "cell_type": "code",
   "execution_count": 3,
   "id": "18585aea-93c3-440c-b1e6-08c4c0ad677c",
   "metadata": {},
   "outputs": [
    {
     "name": "stdout",
     "output_type": "stream",
     "text": [
      "The greeting for Alice is: Hello, Everyone!\n"
     ]
    }
   ],
   "source": [
    "def greet(name):\n",
    "    greeting = \"Hello, \" + name + \"!\"\n",
    "    return greeting\n",
    "\n",
    "# Usage\n",
    "user_greeting = greet(\"Everyone\")\n",
    "print(\"The greeting for Alice is:\", user_greeting)"
   ]
  },
  {
   "cell_type": "code",
   "execution_count": 4,
   "id": "c60e2b7d-1e0c-4fac-99b5-da92c769fccc",
   "metadata": {},
   "outputs": [
    {
     "name": "stdout",
     "output_type": "stream",
     "text": [
      "The number 7 is: Odd\n"
     ]
    }
   ],
   "source": [
    "def check_even_odd(number):\n",
    "    if number % 2 == 0:\n",
    "        return \"Even\"\n",
    "    else:\n",
    "        return \"Odd\"\n",
    "\n",
    "# Usage\n",
    "result = check_even_odd(7)\n",
    "print(\"The number 7 is:\", result)"
   ]
  },
  {
   "cell_type": "code",
   "execution_count": 5,
   "id": "e981b4c7-b55e-4856-8317-ec0996dcd589",
   "metadata": {},
   "outputs": [
    {
     "name": "stdout",
     "output_type": "stream",
     "text": [
      "Default Greeting: Hello, Bob!\n"
     ]
    }
   ],
   "source": [
    "def greet_with_message(name, message=\"Hello\"):\n",
    "    full_message = message + \", \" + name + \"!\"\n",
    "    return full_message\n",
    "\n",
    "# Usage\n",
    "greeting = greet_with_message(\"Bob\")\n",
    "print(\"Default Greeting:\", greeting)\n"
   ]
  },
  {
   "cell_type": "code",
   "execution_count": 6,
   "id": "04f1fb6e-4abf-4d08-bd17-ee75bf73e72a",
   "metadata": {},
   "outputs": [
    {
     "name": "stdout",
     "output_type": "stream",
     "text": [
      "Name: Shailendra Singh\n",
      "Age: 25\n",
      "City: Dehradun\n"
     ]
    }
   ],
   "source": [
    "def print_info(name, age, city):\n",
    "    print(\"Name:\", name)\n",
    "    print(\"Age:\", age)\n",
    "    print(\"City:\", city)\n",
    "\n",
    "# Usage\n",
    "print_info(name=\"Shailendra Singh\", age=25, city=\"Dehradun\")"
   ]
  },
  {
   "cell_type": "code",
   "execution_count": null,
   "id": "e7812a35-465d-4e6e-bfa5-0ae23633611e",
   "metadata": {},
   "outputs": [],
   "source": []
  },
  {
   "cell_type": "code",
   "execution_count": null,
   "id": "e8b77b43-09ec-4c60-824f-b5341350af83",
   "metadata": {},
   "outputs": [],
   "source": []
  },
  {
   "cell_type": "code",
   "execution_count": null,
   "id": "ca182562-ce43-4ca8-bbe2-88095cb29a01",
   "metadata": {},
   "outputs": [],
   "source": []
  },
  {
   "cell_type": "code",
   "execution_count": null,
   "id": "bee55919-03cb-4476-9019-ac4f2b2a962e",
   "metadata": {},
   "outputs": [],
   "source": []
  }
 ],
 "metadata": {
  "kernelspec": {
   "display_name": "Python 3 (ipykernel)",
   "language": "python",
   "name": "python3"
  },
  "language_info": {
   "codemirror_mode": {
    "name": "ipython",
    "version": 3
   },
   "file_extension": ".py",
   "mimetype": "text/x-python",
   "name": "python",
   "nbconvert_exporter": "python",
   "pygments_lexer": "ipython3",
   "version": "3.11.7"
  }
 },
 "nbformat": 4,
 "nbformat_minor": 5
}
