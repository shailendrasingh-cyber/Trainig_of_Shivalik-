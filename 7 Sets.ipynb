{
 "cells": [
  {
   "cell_type": "code",
   "execution_count": 1,
   "id": "76629cb6-1df6-42dc-88bd-2ca28ecf7e38",
   "metadata": {},
   "outputs": [
    {
     "name": "stdout",
     "output_type": "stream",
     "text": [
      "{1, 2, 3, 4, 5}\n",
      "Set with Repetitive Values: {1, 2, 3, 4, 5}\n"
     ]
    }
   ],
   "source": []
  },
  {
   "cell_type": "code",
   "execution_count": 4,
   "id": "283e30ff-660d-4697-8b5c-1bf5abbfc489",
   "metadata": {},
   "outputs": [
    {
     "name": "stdout",
     "output_type": "stream",
     "text": [
      "{1, 2, 3, 4, 5}\n",
      "Set with Repetitive Values: {1, 2, 3, 4, 5}\n"
     ]
    }
   ],
   "source": [
    "# Creating a set with elements 1, 2, 3, 4, and 5\n",
    "my_set = {1, 2, 3, 4, 5}\n",
    "# Printing the set to the console\n",
    "print(my_set)\n",
    "# Creating a set with repetitive values\n",
    "repetitive_set = {1, 2, 2, 3, 3, 4, 4, 5, 5}\n",
    "print(\"Set with Repetitive Values:\", repetitive_set)\n"
   ]
  },
  {
   "cell_type": "raw",
   "id": "59e71bce-d934-4ead-84d5-1fcf66d4cd4b",
   "metadata": {},
   "source": [
    "Sets in Python are unordered collections of unique elements.\n",
    "When you create a set, any duplicate elements are automatically removed.\n",
    "Printing a set displays its unique elements.\n",
    "This code snippet helps illustrate the nature of s"
   ]
  },
  {
   "cell_type": "code",
   "execution_count": 5,
   "id": "362bd9d3-6836-401f-bf18-68ba164b3755",
   "metadata": {},
   "outputs": [
    {
     "name": "stdout",
     "output_type": "stream",
     "text": [
      "Is 3 in the set? True\n",
      "Is 6 in the set? False\n",
      "First element: 1\n",
      "Last element: 5\n"
     ]
    }
   ],
   "source": [
    "# Creating a set\n",
    "my_set = {1, 2, 3, 4, 5}\n",
    "# Accessing elements using the 'in' keyword\n",
    "print(\"Is 3 in the set?\", 3 in my_set)\n",
    "print(\"Is 6 in the set?\", 6 in my_set)\n",
    "# Converting the set to a list for indexing\n",
    "set_as_list = list(my_set)\n",
    "print(\"First element:\", set_as_list[0])\n",
    "print(\"Last element:\", set_as_list[-1])"
   ]
  },
  {
   "cell_type": "code",
   "execution_count": 6,
   "id": "5e849187-0a0b-4366-ad6c-58cac324cedb",
   "metadata": {},
   "outputs": [
    {
     "name": "stdout",
     "output_type": "stream",
     "text": [
      "Updated Set: {1, 2, 3, 4, 5, 6, 7, 8}\n",
      "Modified Set: {2, 3, 4, 5, 6, 7, 8, 9}\n"
     ]
    }
   ],
   "source": [
    "# Creating a set\n",
    "my_set = {1, 2, 3, 4, 5}\n",
    "# Using the update method to add multiple elements\n",
    "my_set.update({6, 7, 8})\n",
    "# Displaying the updated set\n",
    "print(\"Updated Set:\", my_set)\n",
    "# Using the add method to add a single element\n",
    "my_set.add(9)\n",
    "# Using the remove method to eliminate a single element\n",
    "my_set.remove(1)\n",
    "# Displaying the set after adding 9 and removing 1\n",
    "print(\"Modified Set:\", my_set)"
   ]
  },
  {
   "cell_type": "code",
   "execution_count": null,
   "id": "dd468544-4895-40c1-9056-bfca447b3ca3",
   "metadata": {},
   "outputs": [],
   "source": []
  },
  {
   "cell_type": "code",
   "execution_count": null,
   "id": "68d40593-8869-4789-b4d4-7ab4d1750e03",
   "metadata": {},
   "outputs": [],
   "source": []
  }
 ],
 "metadata": {
  "kernelspec": {
   "display_name": "Python 3 (ipykernel)",
   "language": "python",
   "name": "python3"
  },
  "language_info": {
   "codemirror_mode": {
    "name": "ipython",
    "version": 3
   },
   "file_extension": ".py",
   "mimetype": "text/x-python",
   "name": "python",
   "nbconvert_exporter": "python",
   "pygments_lexer": "ipython3",
   "version": "3.11.7"
  }
 },
 "nbformat": 4,
 "nbformat_minor": 5
}
