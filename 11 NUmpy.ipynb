{
 "cells": [
  {
   "cell_type": "code",
   "execution_count": 1,
   "id": "04e78cb2-70b2-4a94-b8f8-48bf0c278576",
   "metadata": {},
   "outputs": [],
   "source": [
    "import numpy as np\n"
   ]
  },
  {
   "cell_type": "code",
   "execution_count": 2,
   "id": "7db78ef2-2c8d-48af-8bd4-6e486cdfc083",
   "metadata": {},
   "outputs": [
    {
     "name": "stdout",
     "output_type": "stream",
     "text": [
      "[1 2 3]\n",
      "[[1 2 3]\n",
      " [4 5 6]]\n"
     ]
    }
   ],
   "source": [
    "# Creating 1D array\n",
    "arr_1d = np.array([1, 2, 3])\n",
    "print(arr_1d)\n",
    "\n",
    "# Creating 2D array\n",
    "arr_2d = np.array([[1, 2, 3], [4, 5, 6]])\n",
    "print(arr_2d)\n",
    "\n",
    "# Creating 3D array\n",
    "arr_3d = np.array([[[1, 2], [3, 4]], [[5, 6], [7, 8]]])"
   ]
  },
  {
   "cell_type": "code",
   "execution_count": 4,
   "id": "e878ba5b-050a-45d4-b65e-718deb2c9864",
   "metadata": {},
   "outputs": [
    {
     "name": "stdout",
     "output_type": "stream",
     "text": [
      "(2, 3)\n",
      "[[1 2]\n",
      " [3 4]\n",
      " [5 6]]\n"
     ]
    }
   ],
   "source": [
    "# Array Shape and Reshaping\n",
    "arr = np.array([[1, 2, 3], [4, 5, 6]])\n",
    "\n",
    "# Shape\n",
    "shape = arr.shape\n",
    "print(shape)\n",
    "\n",
    "# Reshaping\n",
    "reshaped_arr = arr.reshape((3, 2))\n",
    "print(reshaped_arr)"
   ]
  },
  {
   "cell_type": "code",
   "execution_count": 5,
   "id": "193f8dc4-a855-463d-95fd-a629bf310a0c",
   "metadata": {},
   "outputs": [
    {
     "name": "stdout",
     "output_type": "stream",
     "text": [
      "[[0.08291715 0.99493588 0.6361847 ]\n",
      " [0.93868034 0.61314623 0.43892797]\n",
      " [0.78500803 0.42233206 0.11206577]]\n"
     ]
    }
   ],
   "source": [
    "# Random Module in NumPy\n",
    "random_array = np.random.rand(3, 3)  # 3x3 array of random values between 0 and 1\n",
    "print(random_array)"
   ]
  },
  {
   "cell_type": "code",
   "execution_count": 6,
   "id": "d32d0b63-7900-4aa7-b5e7-3864dacfaf77",
   "metadata": {},
   "outputs": [],
   "source": [
    "\n",
    "# Creating a 1D array\n",
    "arr = np.array([1, 2, 3, 4, 5])\n",
    "\n",
    "# Performing mathematical and statistical operations\n",
    "mean_value = np.mean(arr)  # Calculating the mean\n",
    "median_value = np.median(arr)  # Calculating the median\n",
    "std_deviation = np.std(arr)  # Calculating the standard deviation\n",
    "min_value = np.min(arr)  # Finding the minimum value\n",
    "max_value = np.max(arr)  # Finding the maximum value"
   ]
  },
  {
   "cell_type": "code",
   "execution_count": 7,
   "id": "baa8b9b2-0a0e-4613-a8c7-b068964a5168",
   "metadata": {},
   "outputs": [],
   "source": [
    "# Generating random standard normal matrices\n",
    "a = np.random.standard_normal((2, 3))\n",
    "b = np.random.standard_normal((2, 3))\n",
    "\n",
    "# Vertically stacking matrices 'a' and 'b' using vstack\n",
    "v = np.vstack([a, b])\n",
    "\n",
    "# Horizontally stacking matrices 'a' and 'b' using hstack\n",
    "h = np.hstack([a, b])\n"
   ]
  },
  {
   "cell_type": "code",
   "execution_count": 8,
   "id": "dce27e94-cfd9-4ca8-a3e8-39113bf42c05",
   "metadata": {},
   "outputs": [
    {
     "name": "stdout",
     "output_type": "stream",
     "text": [
      "\n",
      "Original Array:\n",
      "[[1 2 3]\n",
      " [4 5 6]]\n",
      "\n",
      "Transposed Array:\n",
      "[[1 4]\n",
      " [2 5]\n",
      " [3 6]]\n"
     ]
    }
   ],
   "source": [
    "# Creating a 2D array\n",
    "arr = np.array([[1, 2, 3], [4, 5, 6]])\n",
    "\n",
    "# Printing the original array\n",
    "print(\"\\nOriginal Array:\")\n",
    "print(arr)\n",
    "# Transposing the array using the transpose method\n",
    "transposed_arr = arr.transpose()\n",
    "\n",
    "# Printing the transposed array\n",
    "print(\"\\nTransposed Array:\")\n",
    "print(transposed_arr)"
   ]
  },
  {
   "cell_type": "code",
   "execution_count": 9,
   "id": "3f2b1849-e812-4507-863c-80572cfde183",
   "metadata": {},
   "outputs": [
    {
     "name": "stdout",
     "output_type": "stream",
     "text": [
      "First element: 1\n",
      "Third element: 3\n",
      "Subset array: [2 3 4]\n"
     ]
    }
   ],
   "source": [
    "# Creating a 1D array\n",
    "arr_1d = np.array([1, 2, 3, 4, 5])\n",
    "\n",
    "# Accessing individual elements by index\n",
    "print(\"First element:\", arr_1d[0])\n",
    "print(\"Third element:\", arr_1d[2])\n",
    "\n",
    "# Slicing to extract a subset of the array\n",
    "subset_array = arr_1d[1:4]\n",
    "print(\"Subset array:\", subset_array)"
   ]
  },
  {
   "cell_type": "code",
   "execution_count": 10,
   "id": "43b4efdd-1a71-4747-9bda-a76d7cd5cc42",
   "metadata": {},
   "outputs": [
    {
     "name": "stdout",
     "output_type": "stream",
     "text": [
      "Modified array: [ 1  2 10  4  5]\n"
     ]
    }
   ],
   "source": [
    "\n",
    "# Modifying array elements through indexing\n",
    "arr_1d[2] = 10\n",
    "print(\"Modified array:\", arr_1d)"
   ]
  },
  {
   "cell_type": "code",
   "execution_count": 11,
   "id": "fcf0e55c-c1a1-4807-92f0-0e2ad1069d21",
   "metadata": {},
   "outputs": [
    {
     "name": "stdout",
     "output_type": "stream",
     "text": [
      "Element at (1, 2): 6\n",
      "Second row: [4 5 6]\n",
      "First column: [1 4 7]\n"
     ]
    }
   ],
   "source": [
    "# Creating a 2D array\n",
    "arr_2d = np.array([[1, 2, 3], [4, 5, 6], [7, 8, 9]])\n",
    "\n",
    "# Accessing individual elements in a 2D array\n",
    "element_2_3 = arr_2d[1, 2]\n",
    "print(\"Element at (1, 2):\", element_2_3)\n",
    "\n",
    "# Slicing rows and columns in a 2D array\n",
    "second_row = arr_2d[1, :]\n",
    "first_column = arr_2d[:, 0]\n",
    "print(\"Second row:\", second_row)\n",
    "print(\"First column:\", first_column)"
   ]
  },
  {
   "cell_type": "code",
   "execution_count": 12,
   "id": "5c6c1875-3c13-4ddf-b4a4-6710faa53cdb",
   "metadata": {},
   "outputs": [
    {
     "name": "stdout",
     "output_type": "stream",
     "text": [
      "Elements greater than 5: [6 7 8 9]\n"
     ]
    }
   ],
   "source": [
    "# Conditional indexing\n",
    "greater_than_5 = arr_2d[arr_2d > 5]\n",
    "print(\"Elements greater than 5:\", greater_than_5)"
   ]
  },
  {
   "cell_type": "code",
   "execution_count": 13,
   "id": "fd6bdf36-89a5-42c6-b55f-a10a82c4cad6",
   "metadata": {},
   "outputs": [],
   "source": [
    "# Create a sample array representing daily temperatures\n",
    "temperature_data = np.array([[22, 28, 24, 30, 20],\n",
    "                             [26, 23, 27, 22, 29],\n",
    "                             [18, 21, 26, 28, 25],\n",
    "                             [30, 31, 20, 22, 27]])\n"
   ]
  },
  {
   "cell_type": "code",
   "execution_count": 15,
   "id": "408f6aac-81ef-4316-b548-9d149ffd872c",
   "metadata": {},
   "outputs": [
    {
     "name": "stdout",
     "output_type": "stream",
     "text": [
      "[[1 2 3]\n",
      " [4 5 6]\n",
      " [7 8 9]]\n"
     ]
    }
   ],
   "source": [
    "# Creating a 2D array\n",
    "arr = np.array([[1, 2, 3], [4, 5, 6], [7, 8, 9]])\n",
    "\n",
    "# Saving the array to a file named 'array.npy'\n",
    "np.save('array.npy', arr)\n",
    "\n",
    "# Loading the array from the saved file\n",
    "loaded_arr = np.load('array.npy')\n",
    "print(loaded_arr)"
   ]
  },
  {
   "cell_type": "code",
   "execution_count": null,
   "id": "5eb3189b-694c-44e2-9f71-0f43699e214d",
   "metadata": {},
   "outputs": [],
   "source": []
  }
 ],
 "metadata": {
  "kernelspec": {
   "display_name": "Python 3 (ipykernel)",
   "language": "python",
   "name": "python3"
  },
  "language_info": {
   "codemirror_mode": {
    "name": "ipython",
    "version": 3
   },
   "file_extension": ".py",
   "mimetype": "text/x-python",
   "name": "python",
   "nbconvert_exporter": "python",
   "pygments_lexer": "ipython3",
   "version": "3.11.7"
  }
 },
 "nbformat": 4,
 "nbformat_minor": 5
}
