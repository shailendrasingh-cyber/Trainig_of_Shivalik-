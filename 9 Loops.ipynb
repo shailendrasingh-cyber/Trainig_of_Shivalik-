{
 "cells": [
  {
   "cell_type": "code",
   "execution_count": null,
   "id": "7f1b94db-24c0-4b18-a6b9-a001a6832751",
   "metadata": {},
   "outputs": [],
   "source": [
    "\n",
    "for variable in sequence:\n",
    "    # code to be executed"
   ]
  },
  {
   "cell_type": "code",
   "execution_count": null,
   "id": "410b5855-9721-4f87-8e1b-adbe5046f79b",
   "metadata": {},
   "outputs": [],
   "source": [
    "\n",
    "while condition:\n",
    "    # code to be executed\n"
   ]
  },
  {
   "cell_type": "code",
   "execution_count": 1,
   "id": "2ed9cf23-0abd-4ff2-9962-8856a4436022",
   "metadata": {},
   "outputs": [
    {
     "name": "stdout",
     "output_type": "stream",
     "text": [
      "1\n",
      "2\n",
      "3\n",
      "4\n",
      "5\n"
     ]
    }
   ],
   "source": [
    "\n",
    "# Example 1: Iterating over a List\n",
    "numbers = [1,2,3,4,5]\n",
    "for number in numbers:\n",
    "    print(number)"
   ]
  },
  {
   "cell_type": "code",
   "execution_count": 2,
   "id": "6623902f-7611-4ec6-88f9-930f569d1dc4",
   "metadata": {},
   "outputs": [
    {
     "name": "stdout",
     "output_type": "stream",
     "text": [
      "C\n",
      "L\n",
      "O\n",
      "U\n",
      "D\n",
      "E\n",
      "D\n",
      "U\n",
      "C\n",
      "A\n",
      "T\n",
      "I\n",
      "O\n",
      "N\n"
     ]
    }
   ],
   "source": [
    "\n",
    "# Example 2: Iterating over a String\n",
    "message = \"CLOUDEDUCATION\"\n",
    "for char in message:\n",
    "    print(char)"
   ]
  },
  {
   "cell_type": "code",
   "execution_count": 3,
   "id": "4e765473-fb7a-4cf4-a8a8-037aa8d2d3ea",
   "metadata": {},
   "outputs": [
    {
     "name": "stdout",
     "output_type": "stream",
     "text": [
      "1\n",
      "2\n",
      "3\n",
      "4\n"
     ]
    }
   ],
   "source": [
    "\n",
    "# Example 3: Using the range() Function\n",
    "for num in range(1, 5):\n",
    "    print(num)"
   ]
  },
  {
   "cell_type": "code",
   "execution_count": 4,
   "id": "aa9f795b-aceb-4e12-b568-becd453c41c0",
   "metadata": {},
   "outputs": [
    {
     "name": "stdout",
     "output_type": "stream",
     "text": [
      "0 0\n",
      "0 1\n",
      "1 0\n",
      "1 1\n",
      "2 0\n",
      "2 1\n"
     ]
    }
   ],
   "source": [
    "# Example 4: Nested \"for\" Loop\n",
    "for i in range(3):\n",
    "    for j in range(2):\n",
    "        print(i, j)\n"
   ]
  },
  {
   "cell_type": "code",
   "execution_count": 5,
   "id": "142d71e7-b02a-4cc9-8187-d917a3310e94",
   "metadata": {},
   "outputs": [
    {
     "name": "stdout",
     "output_type": "stream",
     "text": [
      "Counter: 0\n",
      "Counter: 1\n",
      "Counter: 2\n",
      "Counter: 3\n",
      "Counter: 4\n"
     ]
    }
   ],
   "source": [
    "\n",
    "# Example 1: Simple while Loop\n",
    "counter = 0\n",
    "while counter < 5:\n",
    "    print(\"Counter:\", counter)\n",
    "    counter += 1"
   ]
  },
  {
   "cell_type": "code",
   "execution_count": 6,
   "id": "fe8f08da-6908-4086-9ae2-8212fd2ff7bc",
   "metadata": {},
   "outputs": [
    {
     "name": "stdout",
     "output_type": "stream",
     "text": [
      "Counter: 0\n",
      "Counter: 1\n",
      "Counter: 2\n",
      "Counter: 3\n",
      "Counter: 4\n",
      "Loop completed successfully!\n"
     ]
    }
   ],
   "source": [
    "# Example 2: While Loop with Else\n",
    "counter = 0\n",
    "while counter < 5:\n",
    "    print(\"Counter:\", counter)\n",
    "    counter += 1\n",
    "else:\n",
    "    print(\"Loop completed successfully!\")"
   ]
  },
  {
   "cell_type": "code",
   "execution_count": null,
   "id": "0d37439e-f85d-4ab2-a988-ea3e53dff182",
   "metadata": {},
   "outputs": [],
   "source": []
  }
 ],
 "metadata": {
  "kernelspec": {
   "display_name": "Python 3 (ipykernel)",
   "language": "python",
   "name": "python3"
  },
  "language_info": {
   "codemirror_mode": {
    "name": "ipython",
    "version": 3
   },
   "file_extension": ".py",
   "mimetype": "text/x-python",
   "name": "python",
   "nbconvert_exporter": "python",
   "pygments_lexer": "ipython3",
   "version": "3.11.7"
  }
 },
 "nbformat": 4,
 "nbformat_minor": 5
}
