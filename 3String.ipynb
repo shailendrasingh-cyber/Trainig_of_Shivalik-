{
 "cells": [
  {
   "cell_type": "code",
   "execution_count": 2,
   "id": "c6e8323e-f2d3-4464-9726-a28efc376e77",
   "metadata": {},
   "outputs": [
    {
     "name": "stdout",
     "output_type": "stream",
     "text": [
      "cloudEducation\n"
     ]
    }
   ],
   "source": [
    "\n",
    "print(\"cloudEducation\")"
   ]
  },
  {
   "cell_type": "code",
   "execution_count": 6,
   "id": "f4891d20-6299-4550-940f-7d0c281e4aa7",
   "metadata": {},
   "outputs": [
    {
     "name": "stdout",
     "output_type": "stream",
     "text": [
      "Hello and welcome to CloudEducation,your are here  for leaning Python and datascience.\n",
      "   \n"
     ]
    }
   ],
   "source": [
    "\n",
    "# Assign a multiline string to variable 'a'\n",
    "a = \"\"\"Hello and welcome to CloudEducation,your are here  for leaning Python and datascience.\n",
    "   \"\"\"\n",
    "# Print the content of the variable 'a'\n",
    "print(a)"
   ]
  },
  {
   "cell_type": "code",
   "execution_count": 7,
   "id": "9a4062ad-0c79-44a1-9015-56ffcd411789",
   "metadata": {},
   "outputs": [
    {
     "name": "stdout",
     "output_type": "stream",
     "text": [
      "C\n"
     ]
    }
   ],
   "source": [
    "\n",
    "# Define a string\n",
    "s = \"CloudEducation\"\n",
    "# Access the first character using square brackets\n",
    "print(s[0])"
   ]
  },
  {
   "cell_type": "code",
   "execution_count": 8,
   "id": "3b765f45-ee2c-4619-b2ac-c8fb1bfe65ab",
   "metadata": {},
   "outputs": [
    {
     "name": "stdout",
     "output_type": "stream",
     "text": [
      "15\n"
     ]
    }
   ],
   "source": [
    "\n",
    "# Define a string\n",
    "s = \"Cloud Education\"\n",
    "# Get the length of the string\n",
    "print(len(s))"
   ]
  },
  {
   "cell_type": "code",
   "execution_count": 9,
   "id": "b4ee08c7-fae3-4ca8-bb54-dbfceb60b396",
   "metadata": {},
   "outputs": [
    {
     "name": "stdout",
     "output_type": "stream",
     "text": [
      "oud\n"
     ]
    }
   ],
   "source": [
    "# Define a string\n",
    "b = \"Cloud Education\"\n",
    "\n",
    "# Use slicing to extract a substring\n",
    "print(b[2:5])"
   ]
  },
  {
   "cell_type": "code",
   "execution_count": 10,
   "id": "2e566b58-f96b-4ee1-a754-f7a4f63d64b5",
   "metadata": {},
   "outputs": [
    {
     "name": "stdout",
     "output_type": "stream",
     "text": [
      "Cloud \n"
     ]
    }
   ],
   "source": [
    "\n",
    "# Define a string\n",
    "s = \"Cloud Education\"\n",
    "\n",
    "# Use slicing without the start index\n",
    "print(s[:6])"
   ]
  },
  {
   "cell_type": "code",
   "execution_count": 11,
   "id": "64e51ac7-1060-496d-bf90-72dda7553bde",
   "metadata": {},
   "outputs": [
    {
     "name": "stdout",
     "output_type": "stream",
     "text": [
      "d Education\n"
     ]
    }
   ],
   "source": [
    "# Define a string\n",
    "s = \"Cloud Education\"\n",
    "\n",
    "# Use slicing without the end index\n",
    "print(s[4:])"
   ]
  },
  {
   "cell_type": "code",
   "execution_count": 12,
   "id": "7666649e-e182-47fa-89c7-f2ffa88d20ed",
   "metadata": {},
   "outputs": [
    {
     "name": "stdout",
     "output_type": "stream",
     "text": [
      "at\n"
     ]
    }
   ],
   "source": [
    "\n",
    "# Define a string\n",
    "s = \"Cloud Education\"\n",
    "\n",
    "# Use negative indexing in string slicing\n",
    "print(s[-5:-3])"
   ]
  },
  {
   "cell_type": "code",
   "execution_count": 13,
   "id": "cc4c33e0-b812-49af-ae4a-a472ca4dcdc4",
   "metadata": {},
   "outputs": [
    {
     "name": "stdout",
     "output_type": "stream",
     "text": [
      "CLOUD\n"
     ]
    }
   ],
   "source": [
    "\n",
    "# Define a string\n",
    "s = \"cloud\"\n",
    "\n",
    "# Use the upper() method to convert to uppercase\n",
    "print(s.upper())"
   ]
  },
  {
   "cell_type": "code",
   "execution_count": 14,
   "id": "22147b62-bead-4cc4-9aca-0870a1de3c53",
   "metadata": {},
   "outputs": [
    {
     "name": "stdout",
     "output_type": "stream",
     "text": [
      "cloud\n"
     ]
    }
   ],
   "source": [
    "\n",
    "# Define a string\n",
    "s = \"CLOUD\"\n",
    "\n",
    "# Use the lower() method to convert to lowercase\n",
    "print(s.lower())"
   ]
  },
  {
   "cell_type": "code",
   "execution_count": 16,
   "id": "c42d2ab9-8810-4bbb-9c59-cc4fe51784fa",
   "metadata": {},
   "outputs": [
    {
     "name": "stdout",
     "output_type": "stream",
     "text": [
      "L-LOUD\n"
     ]
    }
   ],
   "source": [
    "# Define a string\n",
    "s = \"CLOUD\"\n",
    "\n",
    "# Use the replace() method to substitute characters\n",
    "modified_s = s.replace(\"C\", \"L-\")\n",
    "\n",
    "# Print the modified string\n",
    "print(modified_s)"
   ]
  },
  {
   "cell_type": "code",
   "execution_count": 17,
   "id": "91d2b128-129e-47a9-ad1f-3fb6393c8cba",
   "metadata": {},
   "outputs": [
    {
     "name": "stdout",
     "output_type": "stream",
     "text": [
      "['Cloud ', ' Education']\n"
     ]
    }
   ],
   "source": [
    "\n",
    "# Define a string with comma-separated values\n",
    "s = \"Cloud , Education\"\n",
    "\n",
    "# Use the split() method to create a list of substrings\n",
    "split_values = s.split(\",\")\n",
    "\n",
    "# Print the result\n",
    "print(split_values)"
   ]
  },
  {
   "cell_type": "code",
   "execution_count": 18,
   "id": "460d5db3-a9df-4fe1-8c9f-b8e5e825fc6d",
   "metadata": {},
   "outputs": [
    {
     "name": "stdout",
     "output_type": "stream",
     "text": [
      "Cloud Education\n"
     ]
    }
   ],
   "source": [
    "# Define two strings\n",
    "x = \"Cloud \"\n",
    "y = \"Education\"\n",
    "\n",
    "# Concatenate the strings\n",
    "z = x + y\n",
    "\n",
    "# Print the result\n",
    "print(z)"
   ]
  },
  {
   "cell_type": "code",
   "execution_count": null,
   "id": "d2c3a652-9105-48be-8528-62b5214e3db0",
   "metadata": {},
   "outputs": [],
   "source": []
  }
 ],
 "metadata": {
  "kernelspec": {
   "display_name": "Python 3 (ipykernel)",
   "language": "python",
   "name": "python3"
  },
  "language_info": {
   "codemirror_mode": {
    "name": "ipython",
    "version": 3
   },
   "file_extension": ".py",
   "mimetype": "text/x-python",
   "name": "python",
   "nbconvert_exporter": "python",
   "pygments_lexer": "ipython3",
   "version": "3.11.7"
  }
 },
 "nbformat": 4,
 "nbformat_minor": 5
}
