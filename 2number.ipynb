{
 "cells": [
  {
   "cell_type": "code",
   "execution_count": 1,
   "id": "b03cf823-ddfc-45b4-a76b-205b18c1e8b7",
   "metadata": {},
   "outputs": [
    {
     "name": "stdout",
     "output_type": "stream",
     "text": [
      "<class 'int'>\n",
      "<class 'float'>\n",
      "<class 'complex'>\n"
     ]
    }
   ],
   "source": [
    "x = 1  # int\n",
    "y = 4.31 # float\n",
    "z = 3j  # complex\n",
    "\n",
    "print(type(x))\n",
    "print(type(y))\n",
    "print(type(z))\n"
   ]
  },
  {
   "cell_type": "code",
   "execution_count": 2,
   "id": "74fd2f49-f6a5-4416-8d00-9e831381f23e",
   "metadata": {},
   "outputs": [
    {
     "name": "stdout",
     "output_type": "stream",
     "text": [
      "<class 'int'>\n",
      "<class 'int'>\n",
      "<class 'int'>\n"
     ]
    }
   ],
   "source": [
    "x = 1\n",
    "y = 5594247324536\n",
    "z = -53459342\n",
    "\n",
    "print(type(x))  # Output: <class 'int'>\n",
    "print(type(y))  # Output: <class 'int'>\n",
    "print(type(z))  # Output: <class 'int'>"
   ]
  },
  {
   "cell_type": "code",
   "execution_count": 3,
   "id": "8e20dc00-6a52-49e6-82be-5df221f18f10",
   "metadata": {},
   "outputs": [
    {
     "name": "stdout",
     "output_type": "stream",
     "text": [
      "<class 'float'>\n",
      "<class 'float'>\n",
      "<class 'float'>\n"
     ]
    }
   ],
   "source": [
    "\n",
    "x = 3.7\n",
    "y = 3.\n",
    "z = -15.29\n",
    "\n",
    "print(type(x))  # Output: <class 'float'>\n",
    "print(type(y))  # Output: <class 'float'>\n",
    "print(type(z))  # Output: <class 'float'>"
   ]
  },
  {
   "cell_type": "code",
   "execution_count": 4,
   "id": "8dc47a74-d0d0-42b7-8c66-75142ed1a337",
   "metadata": {},
   "outputs": [
    {
     "name": "stdout",
     "output_type": "stream",
     "text": [
      "<class 'float'>\n",
      "<class 'float'>\n",
      "<class 'float'>\n"
     ]
    }
   ],
   "source": [
    "x = 21e2\n",
    "y = 7E5\n",
    "z = -3.12e100\n",
    "\n",
    "print(type(x))  # Output: <class 'float'>\n",
    "print(type(y))  # Output: <class 'float'>\n",
    "print(type(z))  # Output: <class 'float'>"
   ]
  },
  {
   "cell_type": "code",
   "execution_count": 5,
   "id": "4b37ed32-405c-473f-a39b-ed020097b62a",
   "metadata": {},
   "outputs": [
    {
     "name": "stdout",
     "output_type": "stream",
     "text": [
      "5.0\n",
      "1\n",
      "(5+0j)\n",
      "<class 'float'>\n",
      "<class 'int'>\n",
      "<class 'complex'>\n"
     ]
    }
   ],
   "source": [
    "\n",
    "x = 5  # int\n",
    "y = 1.3  # float\n",
    "z = 3j  # complex\n",
    "\n",
    "# convert from int to float:\n",
    "a = float(x)\n",
    "\n",
    "# convert from float to int:\n",
    "b = int(y)\n",
    "\n",
    "# convert from int to complex:\n",
    "c = complex(x)\n",
    "\n",
    "print(a)  # Output: 5.0\n",
    "print(b)  # Output: 1\n",
    "print(c)  # Output: (5+0j)\n",
    "print(type(a))  # Output: <class 'float'>\n",
    "print(type(b))  # Output: <class 'int'>\n",
    "print(type(c))  # Output: <class 'complex'>"
   ]
  },
  {
   "cell_type": "code",
   "execution_count": 6,
   "id": "aedaec5d-a63b-4690-bb5a-0beba60a2527",
   "metadata": {},
   "outputs": [
    {
     "name": "stdout",
     "output_type": "stream",
     "text": [
      "776\n"
     ]
    }
   ],
   "source": [
    "\n",
    "import random\n",
    "\n",
    "# Generate and print a random integer between 1 and 1000\n",
    "print(random.randrange(1, 1000))"
   ]
  },
  {
   "cell_type": "code",
   "execution_count": null,
   "id": "b414f22a-a0da-4ca3-893b-14c5febc7fd7",
   "metadata": {},
   "outputs": [],
   "source": []
  }
 ],
 "metadata": {
  "kernelspec": {
   "display_name": "Python 3 (ipykernel)",
   "language": "python",
   "name": "python3"
  },
  "language_info": {
   "codemirror_mode": {
    "name": "ipython",
    "version": 3
   },
   "file_extension": ".py",
   "mimetype": "text/x-python",
   "name": "python",
   "nbconvert_exporter": "python",
   "pygments_lexer": "ipython3",
   "version": "3.11.7"
  }
 },
 "nbformat": 4,
 "nbformat_minor": 5
}
